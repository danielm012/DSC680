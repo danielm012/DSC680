{
 "cells": [
  {
   "cell_type": "code",
   "execution_count": 1,
   "id": "73c71a89",
   "metadata": {},
   "outputs": [],
   "source": [
    "import pandas as pd\n",
    "import matplotlib.pyplot as plt\n",
    "import numpy as np\n",
    "import seaborn as sn"
   ]
  },
  {
   "cell_type": "code",
   "execution_count": 2,
   "id": "7d9fd23c",
   "metadata": {},
   "outputs": [],
   "source": [
    "flightdf = pd.read_csv(\"flights.csv\")"
   ]
  },
  {
   "cell_type": "code",
   "execution_count": 3,
   "id": "dcee2b7e",
   "metadata": {
    "scrolled": true
   },
   "outputs": [
    {
     "data": {
      "text/html": [
       "<div>\n",
       "<style scoped>\n",
       "    .dataframe tbody tr th:only-of-type {\n",
       "        vertical-align: middle;\n",
       "    }\n",
       "\n",
       "    .dataframe tbody tr th {\n",
       "        vertical-align: top;\n",
       "    }\n",
       "\n",
       "    .dataframe thead th {\n",
       "        text-align: right;\n",
       "    }\n",
       "</style>\n",
       "<table border=\"1\" class=\"dataframe\">\n",
       "  <thead>\n",
       "    <tr style=\"text-align: right;\">\n",
       "      <th></th>\n",
       "      <th>travelCode</th>\n",
       "      <th>userCode</th>\n",
       "      <th>from</th>\n",
       "      <th>to</th>\n",
       "      <th>flightType</th>\n",
       "      <th>price</th>\n",
       "      <th>time</th>\n",
       "      <th>distance</th>\n",
       "      <th>agency</th>\n",
       "      <th>date</th>\n",
       "    </tr>\n",
       "  </thead>\n",
       "  <tbody>\n",
       "    <tr>\n",
       "      <th>0</th>\n",
       "      <td>0</td>\n",
       "      <td>0</td>\n",
       "      <td>Recife (PE)</td>\n",
       "      <td>Florianopolis (SC)</td>\n",
       "      <td>firstClass</td>\n",
       "      <td>1434.38</td>\n",
       "      <td>1.76</td>\n",
       "      <td>676.53</td>\n",
       "      <td>FlyingDrops</td>\n",
       "      <td>09/26/2019</td>\n",
       "    </tr>\n",
       "    <tr>\n",
       "      <th>1</th>\n",
       "      <td>0</td>\n",
       "      <td>0</td>\n",
       "      <td>Florianopolis (SC)</td>\n",
       "      <td>Recife (PE)</td>\n",
       "      <td>firstClass</td>\n",
       "      <td>1292.29</td>\n",
       "      <td>1.76</td>\n",
       "      <td>676.53</td>\n",
       "      <td>FlyingDrops</td>\n",
       "      <td>09/30/2019</td>\n",
       "    </tr>\n",
       "    <tr>\n",
       "      <th>2</th>\n",
       "      <td>1</td>\n",
       "      <td>0</td>\n",
       "      <td>Brasilia (DF)</td>\n",
       "      <td>Florianopolis (SC)</td>\n",
       "      <td>firstClass</td>\n",
       "      <td>1487.52</td>\n",
       "      <td>1.66</td>\n",
       "      <td>637.56</td>\n",
       "      <td>CloudFy</td>\n",
       "      <td>10/03/2019</td>\n",
       "    </tr>\n",
       "    <tr>\n",
       "      <th>3</th>\n",
       "      <td>1</td>\n",
       "      <td>0</td>\n",
       "      <td>Florianopolis (SC)</td>\n",
       "      <td>Brasilia (DF)</td>\n",
       "      <td>firstClass</td>\n",
       "      <td>1127.36</td>\n",
       "      <td>1.66</td>\n",
       "      <td>637.56</td>\n",
       "      <td>CloudFy</td>\n",
       "      <td>10/04/2019</td>\n",
       "    </tr>\n",
       "    <tr>\n",
       "      <th>4</th>\n",
       "      <td>2</td>\n",
       "      <td>0</td>\n",
       "      <td>Aracaju (SE)</td>\n",
       "      <td>Salvador (BH)</td>\n",
       "      <td>firstClass</td>\n",
       "      <td>1684.05</td>\n",
       "      <td>2.16</td>\n",
       "      <td>830.86</td>\n",
       "      <td>CloudFy</td>\n",
       "      <td>10/10/2019</td>\n",
       "    </tr>\n",
       "  </tbody>\n",
       "</table>\n",
       "</div>"
      ],
      "text/plain": [
       "   travelCode  userCode                from                  to  flightType  \\\n",
       "0           0         0         Recife (PE)  Florianopolis (SC)  firstClass   \n",
       "1           0         0  Florianopolis (SC)         Recife (PE)  firstClass   \n",
       "2           1         0       Brasilia (DF)  Florianopolis (SC)  firstClass   \n",
       "3           1         0  Florianopolis (SC)       Brasilia (DF)  firstClass   \n",
       "4           2         0        Aracaju (SE)       Salvador (BH)  firstClass   \n",
       "\n",
       "     price  time  distance       agency        date  \n",
       "0  1434.38  1.76    676.53  FlyingDrops  09/26/2019  \n",
       "1  1292.29  1.76    676.53  FlyingDrops  09/30/2019  \n",
       "2  1487.52  1.66    637.56      CloudFy  10/03/2019  \n",
       "3  1127.36  1.66    637.56      CloudFy  10/04/2019  \n",
       "4  1684.05  2.16    830.86      CloudFy  10/10/2019  "
      ]
     },
     "execution_count": 3,
     "metadata": {},
     "output_type": "execute_result"
    }
   ],
   "source": [
    "flightdf.head()"
   ]
  },
  {
   "cell_type": "code",
   "execution_count": 4,
   "id": "d14821c4",
   "metadata": {},
   "outputs": [],
   "source": [
    "# cleaning unrequired data since all we need exist in the columns left for the analysis\n",
    "flightdf = flightdf.drop([\"travelCode\", \"userCode\"], axis = 1)"
   ]
  },
  {
   "cell_type": "code",
   "execution_count": 5,
   "id": "eb6b02cb",
   "metadata": {
    "scrolled": true
   },
   "outputs": [
    {
     "data": {
      "text/plain": [
       "from          0\n",
       "to            0\n",
       "flightType    0\n",
       "price         0\n",
       "time          0\n",
       "distance      0\n",
       "agency        0\n",
       "date          0\n",
       "dtype: int64"
      ]
     },
     "execution_count": 5,
     "metadata": {},
     "output_type": "execute_result"
    }
   ],
   "source": [
    "# check for null data in the dataframe\n",
    "flightdf.isnull().sum()"
   ]
  },
  {
   "cell_type": "code",
   "execution_count": 6,
   "id": "7379133e",
   "metadata": {},
   "outputs": [
    {
     "data": {
      "text/html": [
       "<div>\n",
       "<style scoped>\n",
       "    .dataframe tbody tr th:only-of-type {\n",
       "        vertical-align: middle;\n",
       "    }\n",
       "\n",
       "    .dataframe tbody tr th {\n",
       "        vertical-align: top;\n",
       "    }\n",
       "\n",
       "    .dataframe thead th {\n",
       "        text-align: right;\n",
       "    }\n",
       "</style>\n",
       "<table border=\"1\" class=\"dataframe\">\n",
       "  <thead>\n",
       "    <tr style=\"text-align: right;\">\n",
       "      <th></th>\n",
       "      <th>from</th>\n",
       "      <th>to</th>\n",
       "      <th>flightType</th>\n",
       "      <th>price</th>\n",
       "      <th>time</th>\n",
       "      <th>distance</th>\n",
       "      <th>agency</th>\n",
       "      <th>date</th>\n",
       "    </tr>\n",
       "  </thead>\n",
       "  <tbody>\n",
       "    <tr>\n",
       "      <th>0</th>\n",
       "      <td>Recife (PE)</td>\n",
       "      <td>Florianopolis (SC)</td>\n",
       "      <td>firstClass</td>\n",
       "      <td>1434.38</td>\n",
       "      <td>1.76</td>\n",
       "      <td>676.53</td>\n",
       "      <td>FlyingDrops</td>\n",
       "      <td>09/26/2019</td>\n",
       "    </tr>\n",
       "    <tr>\n",
       "      <th>1</th>\n",
       "      <td>Florianopolis (SC)</td>\n",
       "      <td>Recife (PE)</td>\n",
       "      <td>firstClass</td>\n",
       "      <td>1292.29</td>\n",
       "      <td>1.76</td>\n",
       "      <td>676.53</td>\n",
       "      <td>FlyingDrops</td>\n",
       "      <td>09/30/2019</td>\n",
       "    </tr>\n",
       "    <tr>\n",
       "      <th>2</th>\n",
       "      <td>Brasilia (DF)</td>\n",
       "      <td>Florianopolis (SC)</td>\n",
       "      <td>firstClass</td>\n",
       "      <td>1487.52</td>\n",
       "      <td>1.66</td>\n",
       "      <td>637.56</td>\n",
       "      <td>CloudFy</td>\n",
       "      <td>10/03/2019</td>\n",
       "    </tr>\n",
       "    <tr>\n",
       "      <th>3</th>\n",
       "      <td>Florianopolis (SC)</td>\n",
       "      <td>Brasilia (DF)</td>\n",
       "      <td>firstClass</td>\n",
       "      <td>1127.36</td>\n",
       "      <td>1.66</td>\n",
       "      <td>637.56</td>\n",
       "      <td>CloudFy</td>\n",
       "      <td>10/04/2019</td>\n",
       "    </tr>\n",
       "    <tr>\n",
       "      <th>4</th>\n",
       "      <td>Aracaju (SE)</td>\n",
       "      <td>Salvador (BH)</td>\n",
       "      <td>firstClass</td>\n",
       "      <td>1684.05</td>\n",
       "      <td>2.16</td>\n",
       "      <td>830.86</td>\n",
       "      <td>CloudFy</td>\n",
       "      <td>10/10/2019</td>\n",
       "    </tr>\n",
       "  </tbody>\n",
       "</table>\n",
       "</div>"
      ],
      "text/plain": [
       "                 from                  to  flightType    price  time  \\\n",
       "0         Recife (PE)  Florianopolis (SC)  firstClass  1434.38  1.76   \n",
       "1  Florianopolis (SC)         Recife (PE)  firstClass  1292.29  1.76   \n",
       "2       Brasilia (DF)  Florianopolis (SC)  firstClass  1487.52  1.66   \n",
       "3  Florianopolis (SC)       Brasilia (DF)  firstClass  1127.36  1.66   \n",
       "4        Aracaju (SE)       Salvador (BH)  firstClass  1684.05  2.16   \n",
       "\n",
       "   distance       agency        date  \n",
       "0    676.53  FlyingDrops  09/26/2019  \n",
       "1    676.53  FlyingDrops  09/30/2019  \n",
       "2    637.56      CloudFy  10/03/2019  \n",
       "3    637.56      CloudFy  10/04/2019  \n",
       "4    830.86      CloudFy  10/10/2019  "
      ]
     },
     "execution_count": 6,
     "metadata": {},
     "output_type": "execute_result"
    }
   ],
   "source": [
    "flightdf.head()"
   ]
  },
  {
   "cell_type": "code",
   "execution_count": 7,
   "id": "8d3084fc",
   "metadata": {},
   "outputs": [
    {
     "data": {
      "text/plain": [
       "271888"
      ]
     },
     "execution_count": 7,
     "metadata": {},
     "output_type": "execute_result"
    }
   ],
   "source": [
    "len(flightdf)"
   ]
  },
  {
   "cell_type": "code",
   "execution_count": 8,
   "id": "73529ad8",
   "metadata": {},
   "outputs": [
    {
     "data": {
      "text/plain": [
       "array(['Recife (PE)', 'Florianopolis (SC)', 'Brasilia (DF)',\n",
       "       'Aracaju (SE)', 'Salvador (BH)', 'Campo Grande (MS)',\n",
       "       'Sao Paulo (SP)', 'Natal (RN)', 'Rio de Janeiro (RJ)'],\n",
       "      dtype=object)"
      ]
     },
     "execution_count": 8,
     "metadata": {},
     "output_type": "execute_result"
    }
   ],
   "source": [
    "flightdf['from'].unique()"
   ]
  },
  {
   "cell_type": "code",
   "execution_count": 9,
   "id": "08a9fc97",
   "metadata": {},
   "outputs": [
    {
     "data": {
      "text/plain": [
       "array(['Florianopolis (SC)', 'Recife (PE)', 'Brasilia (DF)',\n",
       "       'Salvador (BH)', 'Aracaju (SE)', 'Campo Grande (MS)',\n",
       "       'Sao Paulo (SP)', 'Natal (RN)', 'Rio de Janeiro (RJ)'],\n",
       "      dtype=object)"
      ]
     },
     "execution_count": 9,
     "metadata": {},
     "output_type": "execute_result"
    }
   ],
   "source": [
    "flightdf['to'].unique()"
   ]
  },
  {
   "cell_type": "code",
   "execution_count": 10,
   "id": "697672bc",
   "metadata": {},
   "outputs": [
    {
     "data": {
      "text/plain": [
       "array(['firstClass', 'economic', 'premium'], dtype=object)"
      ]
     },
     "execution_count": 10,
     "metadata": {},
     "output_type": "execute_result"
    }
   ],
   "source": [
    "flightdf['flightType'].unique()"
   ]
  },
  {
   "cell_type": "code",
   "execution_count": 11,
   "id": "8ae69d20",
   "metadata": {},
   "outputs": [
    {
     "data": {
      "text/plain": [
       "array(['FlyingDrops', 'CloudFy', 'Rainbow'], dtype=object)"
      ]
     },
     "execution_count": 11,
     "metadata": {},
     "output_type": "execute_result"
    }
   ],
   "source": [
    "flightdf['agency'].unique()"
   ]
  },
  {
   "cell_type": "code",
   "execution_count": 12,
   "id": "9f01c545",
   "metadata": {},
   "outputs": [],
   "source": [
    "# creating categorical numerical equivalent for machine learning models\n",
    "placeKeys = {\n",
    "    'Recife (PE)': 0, \n",
    "    'Florianopolis (SC)': 1, \n",
    "    'Brasilia (DF)': 2,\n",
    "    'Aracaju (SE)': 3, \n",
    "    'Salvador (BH)': 4, \n",
    "    'Campo Grande (MS)': 5,\n",
    "    'Sao Paulo (SP)': 6, \n",
    "    'Natal (RN)': 7, \n",
    "    'Rio de Janeiro (RJ)': 8\n",
    "}\n",
    "\n",
    "flightTypeKeys = {\n",
    "    'firstClass': 0, \n",
    "    'economic': 1, \n",
    "    'premium': 2\n",
    "}\n",
    "\n",
    "agencyKeys = {\n",
    "    'FlyingDrops': 0, \n",
    "    'CloudFy' : 1, \n",
    "    'Rainbow': 2\n",
    "}\n",
    "\n",
    "monthKeys = {\n",
    "    'FlyingDrops': 0, \n",
    "    'CloudFy' : 1, \n",
    "    'Rainbow': 2\n",
    "}"
   ]
  },
  {
   "cell_type": "code",
   "execution_count": 13,
   "id": "e5a3803b",
   "metadata": {},
   "outputs": [],
   "source": [
    "def changeColumnsToCategorical(df, keys, columns):\n",
    "    for column in columns:\n",
    "        for index in range(0, len(df)):\n",
    "            if(df[column][index] in keys):\n",
    "                df[column][index] = keys.get(df[column][index])\n",
    "    return df"
   ]
  },
  {
   "cell_type": "code",
   "execution_count": 14,
   "id": "4ac7ab55",
   "metadata": {},
   "outputs": [],
   "source": [
    "def changeMonthToNumerical(df):\n",
    "    for index in range(0, len(df)):\n",
    "        df[\"date\"][index] = df[\"date\"][index].month\n",
    "    return df"
   ]
  },
  {
   "cell_type": "code",
   "execution_count": 15,
   "id": "a9f29297",
   "metadata": {},
   "outputs": [
    {
     "data": {
      "text/html": [
       "<div>\n",
       "<style scoped>\n",
       "    .dataframe tbody tr th:only-of-type {\n",
       "        vertical-align: middle;\n",
       "    }\n",
       "\n",
       "    .dataframe tbody tr th {\n",
       "        vertical-align: top;\n",
       "    }\n",
       "\n",
       "    .dataframe thead th {\n",
       "        text-align: right;\n",
       "    }\n",
       "</style>\n",
       "<table border=\"1\" class=\"dataframe\">\n",
       "  <thead>\n",
       "    <tr style=\"text-align: right;\">\n",
       "      <th></th>\n",
       "      <th>from</th>\n",
       "      <th>to</th>\n",
       "      <th>flightType</th>\n",
       "      <th>price</th>\n",
       "      <th>time</th>\n",
       "      <th>distance</th>\n",
       "      <th>agency</th>\n",
       "      <th>date</th>\n",
       "    </tr>\n",
       "  </thead>\n",
       "  <tbody>\n",
       "    <tr>\n",
       "      <th>0</th>\n",
       "      <td>Recife (PE)</td>\n",
       "      <td>Florianopolis (SC)</td>\n",
       "      <td>firstClass</td>\n",
       "      <td>1434.38</td>\n",
       "      <td>1.76</td>\n",
       "      <td>676.53</td>\n",
       "      <td>FlyingDrops</td>\n",
       "      <td>2019-09-26</td>\n",
       "    </tr>\n",
       "    <tr>\n",
       "      <th>1</th>\n",
       "      <td>Florianopolis (SC)</td>\n",
       "      <td>Recife (PE)</td>\n",
       "      <td>firstClass</td>\n",
       "      <td>1292.29</td>\n",
       "      <td>1.76</td>\n",
       "      <td>676.53</td>\n",
       "      <td>FlyingDrops</td>\n",
       "      <td>2019-09-30</td>\n",
       "    </tr>\n",
       "    <tr>\n",
       "      <th>2</th>\n",
       "      <td>Brasilia (DF)</td>\n",
       "      <td>Florianopolis (SC)</td>\n",
       "      <td>firstClass</td>\n",
       "      <td>1487.52</td>\n",
       "      <td>1.66</td>\n",
       "      <td>637.56</td>\n",
       "      <td>CloudFy</td>\n",
       "      <td>2019-10-03</td>\n",
       "    </tr>\n",
       "    <tr>\n",
       "      <th>3</th>\n",
       "      <td>Florianopolis (SC)</td>\n",
       "      <td>Brasilia (DF)</td>\n",
       "      <td>firstClass</td>\n",
       "      <td>1127.36</td>\n",
       "      <td>1.66</td>\n",
       "      <td>637.56</td>\n",
       "      <td>CloudFy</td>\n",
       "      <td>2019-10-04</td>\n",
       "    </tr>\n",
       "    <tr>\n",
       "      <th>4</th>\n",
       "      <td>Aracaju (SE)</td>\n",
       "      <td>Salvador (BH)</td>\n",
       "      <td>firstClass</td>\n",
       "      <td>1684.05</td>\n",
       "      <td>2.16</td>\n",
       "      <td>830.86</td>\n",
       "      <td>CloudFy</td>\n",
       "      <td>2019-10-10</td>\n",
       "    </tr>\n",
       "    <tr>\n",
       "      <th>...</th>\n",
       "      <td>...</td>\n",
       "      <td>...</td>\n",
       "      <td>...</td>\n",
       "      <td>...</td>\n",
       "      <td>...</td>\n",
       "      <td>...</td>\n",
       "      <td>...</td>\n",
       "      <td>...</td>\n",
       "    </tr>\n",
       "    <tr>\n",
       "      <th>271883</th>\n",
       "      <td>Campo Grande (MS)</td>\n",
       "      <td>Florianopolis (SC)</td>\n",
       "      <td>firstClass</td>\n",
       "      <td>1446.34</td>\n",
       "      <td>1.49</td>\n",
       "      <td>573.81</td>\n",
       "      <td>CloudFy</td>\n",
       "      <td>2020-07-12</td>\n",
       "    </tr>\n",
       "    <tr>\n",
       "      <th>271884</th>\n",
       "      <td>Florianopolis (SC)</td>\n",
       "      <td>Natal (RN)</td>\n",
       "      <td>economic</td>\n",
       "      <td>726.95</td>\n",
       "      <td>1.84</td>\n",
       "      <td>709.37</td>\n",
       "      <td>CloudFy</td>\n",
       "      <td>2020-07-16</td>\n",
       "    </tr>\n",
       "    <tr>\n",
       "      <th>271885</th>\n",
       "      <td>Natal (RN)</td>\n",
       "      <td>Florianopolis (SC)</td>\n",
       "      <td>economic</td>\n",
       "      <td>873.07</td>\n",
       "      <td>1.84</td>\n",
       "      <td>709.37</td>\n",
       "      <td>CloudFy</td>\n",
       "      <td>2020-07-20</td>\n",
       "    </tr>\n",
       "    <tr>\n",
       "      <th>271886</th>\n",
       "      <td>Florianopolis (SC)</td>\n",
       "      <td>Rio de Janeiro (RJ)</td>\n",
       "      <td>economic</td>\n",
       "      <td>313.62</td>\n",
       "      <td>1.21</td>\n",
       "      <td>466.30</td>\n",
       "      <td>CloudFy</td>\n",
       "      <td>2020-07-23</td>\n",
       "    </tr>\n",
       "    <tr>\n",
       "      <th>271887</th>\n",
       "      <td>Rio de Janeiro (RJ)</td>\n",
       "      <td>Florianopolis (SC)</td>\n",
       "      <td>economic</td>\n",
       "      <td>533.69</td>\n",
       "      <td>1.21</td>\n",
       "      <td>466.30</td>\n",
       "      <td>CloudFy</td>\n",
       "      <td>2020-07-26</td>\n",
       "    </tr>\n",
       "  </tbody>\n",
       "</table>\n",
       "<p>271888 rows × 8 columns</p>\n",
       "</div>"
      ],
      "text/plain": [
       "                       from                   to  flightType    price  time  \\\n",
       "0               Recife (PE)   Florianopolis (SC)  firstClass  1434.38  1.76   \n",
       "1        Florianopolis (SC)          Recife (PE)  firstClass  1292.29  1.76   \n",
       "2             Brasilia (DF)   Florianopolis (SC)  firstClass  1487.52  1.66   \n",
       "3        Florianopolis (SC)        Brasilia (DF)  firstClass  1127.36  1.66   \n",
       "4              Aracaju (SE)        Salvador (BH)  firstClass  1684.05  2.16   \n",
       "...                     ...                  ...         ...      ...   ...   \n",
       "271883    Campo Grande (MS)   Florianopolis (SC)  firstClass  1446.34  1.49   \n",
       "271884   Florianopolis (SC)           Natal (RN)    economic   726.95  1.84   \n",
       "271885           Natal (RN)   Florianopolis (SC)    economic   873.07  1.84   \n",
       "271886   Florianopolis (SC)  Rio de Janeiro (RJ)    economic   313.62  1.21   \n",
       "271887  Rio de Janeiro (RJ)   Florianopolis (SC)    economic   533.69  1.21   \n",
       "\n",
       "        distance       agency       date  \n",
       "0         676.53  FlyingDrops 2019-09-26  \n",
       "1         676.53  FlyingDrops 2019-09-30  \n",
       "2         637.56      CloudFy 2019-10-03  \n",
       "3         637.56      CloudFy 2019-10-04  \n",
       "4         830.86      CloudFy 2019-10-10  \n",
       "...          ...          ...        ...  \n",
       "271883    573.81      CloudFy 2020-07-12  \n",
       "271884    709.37      CloudFy 2020-07-16  \n",
       "271885    709.37      CloudFy 2020-07-20  \n",
       "271886    466.30      CloudFy 2020-07-23  \n",
       "271887    466.30      CloudFy 2020-07-26  \n",
       "\n",
       "[271888 rows x 8 columns]"
      ]
     },
     "execution_count": 15,
     "metadata": {},
     "output_type": "execute_result"
    }
   ],
   "source": [
    "# convert string to datetime field for easier manipulation of date data.\n",
    "flightdf[\"date\"] = pd.to_datetime(flightdf[\"date\"])\n",
    "flightdf"
   ]
  },
  {
   "cell_type": "code",
   "execution_count": 16,
   "id": "7cbf3d9c",
   "metadata": {},
   "outputs": [
    {
     "name": "stderr",
     "output_type": "stream",
     "text": [
      "C:\\Users\\danie\\AppData\\Local\\Temp/ipykernel_17196/2495218488.py:3: SettingWithCopyWarning: \n",
      "A value is trying to be set on a copy of a slice from a DataFrame\n",
      "\n",
      "See the caveats in the documentation: https://pandas.pydata.org/pandas-docs/stable/user_guide/indexing.html#returning-a-view-versus-a-copy\n",
      "  df[\"date\"][index] = df[\"date\"][index].month\n"
     ]
    }
   ],
   "source": [
    "flightdf = changeMonthToNumerical(flightdf)"
   ]
  },
  {
   "cell_type": "code",
   "execution_count": 17,
   "id": "96554716",
   "metadata": {},
   "outputs": [
    {
     "name": "stderr",
     "output_type": "stream",
     "text": [
      "C:\\Users\\danie\\AppData\\Local\\Temp/ipykernel_17196/1402055537.py:5: SettingWithCopyWarning: \n",
      "A value is trying to be set on a copy of a slice from a DataFrame\n",
      "\n",
      "See the caveats in the documentation: https://pandas.pydata.org/pandas-docs/stable/user_guide/indexing.html#returning-a-view-versus-a-copy\n",
      "  df[column][index] = keys.get(df[column][index])\n"
     ]
    }
   ],
   "source": [
    "# convert the columns from strings into categorical values with the keys\n",
    "flightdf = changeColumnsToCategorical(flightdf, placeKeys, [\"from\", \"to\"])\n",
    "flightdf = changeColumnsToCategorical(flightdf, flightTypeKeys, [\"flightType\"])\n",
    "flightdf = changeColumnsToCategorical(flightdf, agencyKeys, [\"agency\"])"
   ]
  },
  {
   "cell_type": "code",
   "execution_count": 18,
   "id": "04149fc3",
   "metadata": {},
   "outputs": [],
   "source": [
    "flightdf = changeColumnsToCategorical(flightdf, flightTypeKeys, [\"flightType\"])\n",
    "flightdf = changeColumnsToCategorical(flightdf, agencyKeys, [\"agency\"])"
   ]
  },
  {
   "cell_type": "code",
   "execution_count": 19,
   "id": "dfabf18f",
   "metadata": {},
   "outputs": [],
   "source": [
    "# Convert columns to integer\n",
    "flightdf[\"agency\"] = flightdf[\"agency\"].astype(\"int\")\n",
    "flightdf[\"from\"] = flightdf[\"from\"].astype(\"int\")\n",
    "flightdf[\"to\"] = flightdf[\"to\"].astype(\"int\")\n",
    "flightdf[\"flightType\"] = flightdf[\"flightType\"].astype(\"int\")\n",
    "flightdf[\"date\"] = flightdf[\"date\"].astype(\"int\")\n",
    "flightdf[\"distance\"] = flightdf[\"distance\"].astype(\"int\")\n",
    "flightdf[\"time\"] = flightdf[\"time\"].astype(\"int\")\n",
    "flightdf[\"price\"] = flightdf[\"price\"].astype(\"int\")"
   ]
  },
  {
   "cell_type": "code",
   "execution_count": 20,
   "id": "77680330",
   "metadata": {},
   "outputs": [
    {
     "data": {
      "text/html": [
       "<div>\n",
       "<style scoped>\n",
       "    .dataframe tbody tr th:only-of-type {\n",
       "        vertical-align: middle;\n",
       "    }\n",
       "\n",
       "    .dataframe tbody tr th {\n",
       "        vertical-align: top;\n",
       "    }\n",
       "\n",
       "    .dataframe thead th {\n",
       "        text-align: right;\n",
       "    }\n",
       "</style>\n",
       "<table border=\"1\" class=\"dataframe\">\n",
       "  <thead>\n",
       "    <tr style=\"text-align: right;\">\n",
       "      <th></th>\n",
       "      <th>from</th>\n",
       "      <th>to</th>\n",
       "      <th>flightType</th>\n",
       "      <th>price</th>\n",
       "      <th>time</th>\n",
       "      <th>distance</th>\n",
       "      <th>agency</th>\n",
       "      <th>date</th>\n",
       "    </tr>\n",
       "  </thead>\n",
       "  <tbody>\n",
       "    <tr>\n",
       "      <th>0</th>\n",
       "      <td>0</td>\n",
       "      <td>1</td>\n",
       "      <td>0</td>\n",
       "      <td>1434</td>\n",
       "      <td>1</td>\n",
       "      <td>676</td>\n",
       "      <td>0</td>\n",
       "      <td>9</td>\n",
       "    </tr>\n",
       "    <tr>\n",
       "      <th>1</th>\n",
       "      <td>1</td>\n",
       "      <td>0</td>\n",
       "      <td>0</td>\n",
       "      <td>1292</td>\n",
       "      <td>1</td>\n",
       "      <td>676</td>\n",
       "      <td>0</td>\n",
       "      <td>9</td>\n",
       "    </tr>\n",
       "    <tr>\n",
       "      <th>2</th>\n",
       "      <td>2</td>\n",
       "      <td>1</td>\n",
       "      <td>0</td>\n",
       "      <td>1487</td>\n",
       "      <td>1</td>\n",
       "      <td>637</td>\n",
       "      <td>1</td>\n",
       "      <td>10</td>\n",
       "    </tr>\n",
       "    <tr>\n",
       "      <th>3</th>\n",
       "      <td>1</td>\n",
       "      <td>2</td>\n",
       "      <td>0</td>\n",
       "      <td>1127</td>\n",
       "      <td>1</td>\n",
       "      <td>637</td>\n",
       "      <td>1</td>\n",
       "      <td>10</td>\n",
       "    </tr>\n",
       "    <tr>\n",
       "      <th>4</th>\n",
       "      <td>3</td>\n",
       "      <td>4</td>\n",
       "      <td>0</td>\n",
       "      <td>1684</td>\n",
       "      <td>2</td>\n",
       "      <td>830</td>\n",
       "      <td>1</td>\n",
       "      <td>10</td>\n",
       "    </tr>\n",
       "  </tbody>\n",
       "</table>\n",
       "</div>"
      ],
      "text/plain": [
       "   from  to  flightType  price  time  distance  agency  date\n",
       "0     0   1           0   1434     1       676       0     9\n",
       "1     1   0           0   1292     1       676       0     9\n",
       "2     2   1           0   1487     1       637       1    10\n",
       "3     1   2           0   1127     1       637       1    10\n",
       "4     3   4           0   1684     2       830       1    10"
      ]
     },
     "execution_count": 20,
     "metadata": {},
     "output_type": "execute_result"
    }
   ],
   "source": [
    "flightdf.head()"
   ]
  },
  {
   "cell_type": "code",
   "execution_count": 21,
   "id": "bff85b53",
   "metadata": {},
   "outputs": [
    {
     "data": {
      "text/plain": [
       "<matplotlib.collections.PathCollection at 0x21212291670>"
      ]
     },
     "execution_count": 21,
     "metadata": {},
     "output_type": "execute_result"
    },
    {
     "data": {
      "image/png": "[encoded data removed]",
      "text/plain": [
       "<Figure size 432x288 with 1 Axes>"
      ]
     },
     "metadata": {
      "needs_background": "light"
     },
     "output_type": "display_data"
    }
   ],
   "source": [
    "plt.xlabel(\"index\")\n",
    "plt.ylabel(\"price\")\n",
    "plt.scatter(flightdf[0:3000].index, flightdf[0:3000][\"price\"], c = flightdf[0:3000][\"time\"], alpha = 0.6)"
   ]
  },
  {
   "cell_type": "code",
   "execution_count": 22,
   "id": "cc5e8715",
   "metadata": {},
   "outputs": [
    {
     "data": {
      "text/plain": [
       "<matplotlib.collections.PathCollection at 0x21212f8d940>"
      ]
     },
     "execution_count": 22,
     "metadata": {},
     "output_type": "execute_result"
    },
    {
     "data": {
      "image/png": "[encoded data removed]",
      "text/plain": [
       "<Figure size 432x288 with 1 Axes>"
      ]
     },
     "metadata": {
      "needs_background": "light"
     },
     "output_type": "display_data"
    }
   ],
   "source": [
    "plt.xlabel(\"distance\")\n",
    "plt.ylabel(\"price\")\n",
    "plt.scatter(flightdf[0:10000][\"distance\"], flightdf[0:10000][\"price\"],  c = flightdf[0:10000][\"flightType\"], alpha = 0.5)"
   ]
  },
  {
   "cell_type": "code",
   "execution_count": 23,
   "id": "ec7736be",
   "metadata": {},
   "outputs": [],
   "source": [
    "# We can turn off the interactive plot using %matplotlib inline\n",
    "%matplotlib notebook"
   ]
  },
  {
   "cell_type": "code",
   "execution_count": 45,
   "id": "f3de0607",
   "metadata": {},
   "outputs": [
    {
     "data": {
      "text/plain": [
       "<mpl_toolkits.mplot3d.art3d.Path3DCollection at 0x21215892bb0>"
      ]
     },
     "execution_count": 45,
     "metadata": {},
     "output_type": "execute_result"
    },
    {
     "data": {
      "image/png": "[encoded data removed]",
      "text/plain": [
       "<Figure size 432x288 with 1 Axes>"
      ]
     },
     "metadata": {
      "needs_background": "light"
     },
     "output_type": "display_data"
    }
   ],
   "source": [
    "fig = plt.figure()\n",
    "ax = plt.axes(projection='3d')\n",
    "\n",
    "ax.set_xlabel(\"distance\")\n",
    "ax.set_ylabel(\"price\")\n",
    "ax.set_zlabel(\"date\")\n",
    "\n",
    "ax.scatter(flightdf[0:1000][\"distance\"], flightdf[0:1000][\"price\"],  flightdf[0:1000][\"date\"], c = flightdf[0:1000][\"time\"])\n"
   ]
  },
  {
   "cell_type": "code",
   "execution_count": 25,
   "id": "622c5a80",
   "metadata": {},
   "outputs": [],
   "source": [
    "%matplotlib inline"
   ]
  },
  {
   "cell_type": "code",
   "execution_count": 26,
   "id": "6d15ba29",
   "metadata": {},
   "outputs": [
    {
     "data": {
      "text/plain": [
       "(271888, 8)"
      ]
     },
     "execution_count": 26,
     "metadata": {},
     "output_type": "execute_result"
    }
   ],
   "source": [
    "flightdf.shape"
   ]
  },
  {
   "cell_type": "code",
   "execution_count": 27,
   "id": "6a723ec4",
   "metadata": {},
   "outputs": [
    {
     "data": {
      "text/plain": [
       "from          266008\n",
       "to            266008\n",
       "flightType    266008\n",
       "price         266008\n",
       "time          266008\n",
       "distance      266008\n",
       "agency        266008\n",
       "date          266008\n",
       "dtype: int64"
      ]
     },
     "execution_count": 27,
     "metadata": {},
     "output_type": "execute_result"
    }
   ],
   "source": [
    "flightdf[flightdf.duplicated()].count()"
   ]
  },
  {
   "cell_type": "code",
   "execution_count": 28,
   "id": "875347b3",
   "metadata": {},
   "outputs": [
    {
     "name": "stdout",
     "output_type": "stream",
     "text": [
      "<class 'pandas.core.frame.DataFrame'>\n",
      "RangeIndex: 271888 entries, 0 to 271887\n",
      "Data columns (total 8 columns):\n",
      " #   Column      Non-Null Count   Dtype\n",
      "---  ------      --------------   -----\n",
      " 0   from        271888 non-null  int32\n",
      " 1   to          271888 non-null  int32\n",
      " 2   flightType  271888 non-null  int32\n",
      " 3   price       271888 non-null  int32\n",
      " 4   time        271888 non-null  int32\n",
      " 5   distance    271888 non-null  int32\n",
      " 6   agency      271888 non-null  int32\n",
      " 7   date        271888 non-null  int32\n",
      "dtypes: int32(8)\n",
      "memory usage: 8.3 MB\n"
     ]
    }
   ],
   "source": [
    "flightdf.info()"
   ]
  },
  {
   "cell_type": "code",
   "execution_count": 29,
   "id": "a7cdda77",
   "metadata": {},
   "outputs": [
    {
     "data": {
      "text/plain": [
       "5880"
      ]
     },
     "execution_count": 29,
     "metadata": {},
     "output_type": "execute_result"
    }
   ],
   "source": [
    "# Non-duplicate items\n",
    "271888 - 266008"
   ]
  },
  {
   "cell_type": "code",
   "execution_count": 30,
   "id": "53f9ad7e",
   "metadata": {},
   "outputs": [
    {
     "data": {
      "text/html": [
       "<div>\n",
       "<style scoped>\n",
       "    .dataframe tbody tr th:only-of-type {\n",
       "        vertical-align: middle;\n",
       "    }\n",
       "\n",
       "    .dataframe tbody tr th {\n",
       "        vertical-align: top;\n",
       "    }\n",
       "\n",
       "    .dataframe thead th {\n",
       "        text-align: right;\n",
       "    }\n",
       "</style>\n",
       "<table border=\"1\" class=\"dataframe\">\n",
       "  <thead>\n",
       "    <tr style=\"text-align: right;\">\n",
       "      <th></th>\n",
       "      <th>from</th>\n",
       "      <th>to</th>\n",
       "      <th>flightType</th>\n",
       "      <th>price</th>\n",
       "      <th>time</th>\n",
       "      <th>distance</th>\n",
       "      <th>agency</th>\n",
       "      <th>date</th>\n",
       "    </tr>\n",
       "  </thead>\n",
       "  <tbody>\n",
       "    <tr>\n",
       "      <th>count</th>\n",
       "      <td>271888.000000</td>\n",
       "      <td>271888.000000</td>\n",
       "      <td>271888.000000</td>\n",
       "      <td>271888.000000</td>\n",
       "      <td>271888.000000</td>\n",
       "      <td>271888.000000</td>\n",
       "      <td>271888.000000</td>\n",
       "      <td>271888.000000</td>\n",
       "    </tr>\n",
       "    <tr>\n",
       "      <th>mean</th>\n",
       "      <td>3.367361</td>\n",
       "      <td>3.367361</td>\n",
       "      <td>0.858714</td>\n",
       "      <td>956.873179</td>\n",
       "      <td>0.953650</td>\n",
       "      <td>546.402202</td>\n",
       "      <td>1.286861</td>\n",
       "      <td>6.607519</td>\n",
       "    </tr>\n",
       "    <tr>\n",
       "      <th>std</th>\n",
       "      <td>2.476507</td>\n",
       "      <td>2.476507</td>\n",
       "      <td>0.833740</td>\n",
       "      <td>362.308203</td>\n",
       "      <td>0.625917</td>\n",
       "      <td>208.805727</td>\n",
       "      <td>0.699769</td>\n",
       "      <td>3.606611</td>\n",
       "    </tr>\n",
       "    <tr>\n",
       "      <th>min</th>\n",
       "      <td>0.000000</td>\n",
       "      <td>0.000000</td>\n",
       "      <td>0.000000</td>\n",
       "      <td>301.000000</td>\n",
       "      <td>0.000000</td>\n",
       "      <td>168.000000</td>\n",
       "      <td>0.000000</td>\n",
       "      <td>1.000000</td>\n",
       "    </tr>\n",
       "    <tr>\n",
       "      <th>25%</th>\n",
       "      <td>1.000000</td>\n",
       "      <td>1.000000</td>\n",
       "      <td>0.000000</td>\n",
       "      <td>672.000000</td>\n",
       "      <td>1.000000</td>\n",
       "      <td>401.000000</td>\n",
       "      <td>1.000000</td>\n",
       "      <td>3.000000</td>\n",
       "    </tr>\n",
       "    <tr>\n",
       "      <th>50%</th>\n",
       "      <td>3.000000</td>\n",
       "      <td>3.000000</td>\n",
       "      <td>1.000000</td>\n",
       "      <td>904.000000</td>\n",
       "      <td>1.000000</td>\n",
       "      <td>562.000000</td>\n",
       "      <td>1.000000</td>\n",
       "      <td>7.000000</td>\n",
       "    </tr>\n",
       "    <tr>\n",
       "      <th>75%</th>\n",
       "      <td>5.000000</td>\n",
       "      <td>5.000000</td>\n",
       "      <td>2.000000</td>\n",
       "      <td>1222.000000</td>\n",
       "      <td>1.000000</td>\n",
       "      <td>676.000000</td>\n",
       "      <td>2.000000</td>\n",
       "      <td>10.000000</td>\n",
       "    </tr>\n",
       "    <tr>\n",
       "      <th>max</th>\n",
       "      <td>8.000000</td>\n",
       "      <td>8.000000</td>\n",
       "      <td>2.000000</td>\n",
       "      <td>1754.000000</td>\n",
       "      <td>2.000000</td>\n",
       "      <td>937.000000</td>\n",
       "      <td>2.000000</td>\n",
       "      <td>12.000000</td>\n",
       "    </tr>\n",
       "  </tbody>\n",
       "</table>\n",
       "</div>"
      ],
      "text/plain": [
       "                from             to     flightType          price  \\\n",
       "count  271888.000000  271888.000000  271888.000000  271888.000000   \n",
       "mean        3.367361       3.367361       0.858714     956.873179   \n",
       "std         2.476507       2.476507       0.833740     362.308203   \n",
       "min         0.000000       0.000000       0.000000     301.000000   \n",
       "25%         1.000000       1.000000       0.000000     672.000000   \n",
       "50%         3.000000       3.000000       1.000000     904.000000   \n",
       "75%         5.000000       5.000000       2.000000    1222.000000   \n",
       "max         8.000000       8.000000       2.000000    1754.000000   \n",
       "\n",
       "                time       distance         agency           date  \n",
       "count  271888.000000  271888.000000  271888.000000  271888.000000  \n",
       "mean        0.953650     546.402202       1.286861       6.607519  \n",
       "std         0.625917     208.805727       0.699769       3.606611  \n",
       "min         0.000000     168.000000       0.000000       1.000000  \n",
       "25%         1.000000     401.000000       1.000000       3.000000  \n",
       "50%         1.000000     562.000000       1.000000       7.000000  \n",
       "75%         1.000000     676.000000       2.000000      10.000000  \n",
       "max         2.000000     937.000000       2.000000      12.000000  "
      ]
     },
     "execution_count": 30,
     "metadata": {},
     "output_type": "execute_result"
    }
   ],
   "source": [
    "flightdf.describe()"
   ]
  },
  {
   "cell_type": "code",
   "execution_count": 31,
   "id": "92805929",
   "metadata": {},
   "outputs": [
    {
     "data": {
      "text/html": [
       "<div>\n",
       "<style scoped>\n",
       "    .dataframe tbody tr th:only-of-type {\n",
       "        vertical-align: middle;\n",
       "    }\n",
       "\n",
       "    .dataframe tbody tr th {\n",
       "        vertical-align: top;\n",
       "    }\n",
       "\n",
       "    .dataframe thead th {\n",
       "        text-align: right;\n",
       "    }\n",
       "</style>\n",
       "<table border=\"1\" class=\"dataframe\">\n",
       "  <thead>\n",
       "    <tr style=\"text-align: right;\">\n",
       "      <th></th>\n",
       "      <th>from</th>\n",
       "      <th>to</th>\n",
       "      <th>flightType</th>\n",
       "      <th>price</th>\n",
       "      <th>time</th>\n",
       "      <th>distance</th>\n",
       "      <th>agency</th>\n",
       "      <th>date</th>\n",
       "    </tr>\n",
       "  </thead>\n",
       "  <tbody>\n",
       "    <tr>\n",
       "      <th>from</th>\n",
       "      <td>1.000000</td>\n",
       "      <td>-0.198067</td>\n",
       "      <td>0.002324</td>\n",
       "      <td>0.011820</td>\n",
       "      <td>-0.189659</td>\n",
       "      <td>-0.226095</td>\n",
       "      <td>0.001484</td>\n",
       "      <td>0.001075</td>\n",
       "    </tr>\n",
       "    <tr>\n",
       "      <th>to</th>\n",
       "      <td>-0.198067</td>\n",
       "      <td>1.000000</td>\n",
       "      <td>0.002324</td>\n",
       "      <td>-0.271367</td>\n",
       "      <td>-0.189659</td>\n",
       "      <td>-0.226095</td>\n",
       "      <td>0.001484</td>\n",
       "      <td>0.003814</td>\n",
       "    </tr>\n",
       "    <tr>\n",
       "      <th>flightType</th>\n",
       "      <td>0.002324</td>\n",
       "      <td>0.002324</td>\n",
       "      <td>1.000000</td>\n",
       "      <td>-0.352248</td>\n",
       "      <td>0.002125</td>\n",
       "      <td>0.002173</td>\n",
       "      <td>0.315986</td>\n",
       "      <td>-0.000286</td>\n",
       "    </tr>\n",
       "    <tr>\n",
       "      <th>price</th>\n",
       "      <td>0.011820</td>\n",
       "      <td>-0.271367</td>\n",
       "      <td>-0.352248</td>\n",
       "      <td>1.000000</td>\n",
       "      <td>0.571745</td>\n",
       "      <td>0.641884</td>\n",
       "      <td>-0.192272</td>\n",
       "      <td>-0.000015</td>\n",
       "    </tr>\n",
       "    <tr>\n",
       "      <th>time</th>\n",
       "      <td>-0.189659</td>\n",
       "      <td>-0.189659</td>\n",
       "      <td>0.002125</td>\n",
       "      <td>0.571745</td>\n",
       "      <td>1.000000</td>\n",
       "      <td>0.925108</td>\n",
       "      <td>-0.004610</td>\n",
       "      <td>0.000340</td>\n",
       "    </tr>\n",
       "    <tr>\n",
       "      <th>distance</th>\n",
       "      <td>-0.226095</td>\n",
       "      <td>-0.226095</td>\n",
       "      <td>0.002173</td>\n",
       "      <td>0.641884</td>\n",
       "      <td>0.925108</td>\n",
       "      <td>1.000000</td>\n",
       "      <td>-0.003166</td>\n",
       "      <td>0.000947</td>\n",
       "    </tr>\n",
       "    <tr>\n",
       "      <th>agency</th>\n",
       "      <td>0.001484</td>\n",
       "      <td>0.001484</td>\n",
       "      <td>0.315986</td>\n",
       "      <td>-0.192272</td>\n",
       "      <td>-0.004610</td>\n",
       "      <td>-0.003166</td>\n",
       "      <td>1.000000</td>\n",
       "      <td>0.002784</td>\n",
       "    </tr>\n",
       "    <tr>\n",
       "      <th>date</th>\n",
       "      <td>0.001075</td>\n",
       "      <td>0.003814</td>\n",
       "      <td>-0.000286</td>\n",
       "      <td>-0.000015</td>\n",
       "      <td>0.000340</td>\n",
       "      <td>0.000947</td>\n",
       "      <td>0.002784</td>\n",
       "      <td>1.000000</td>\n",
       "    </tr>\n",
       "  </tbody>\n",
       "</table>\n",
       "</div>"
      ],
      "text/plain": [
       "                from        to  flightType     price      time  distance  \\\n",
       "from        1.000000 -0.198067    0.002324  0.011820 -0.189659 -0.226095   \n",
       "to         -0.198067  1.000000    0.002324 -0.271367 -0.189659 -0.226095   \n",
       "flightType  0.002324  0.002324    1.000000 -0.352248  0.002125  0.002173   \n",
       "price       0.011820 -0.271367   -0.352248  1.000000  0.571745  0.641884   \n",
       "time       -0.189659 -0.189659    0.002125  0.571745  1.000000  0.925108   \n",
       "distance   -0.226095 -0.226095    0.002173  0.641884  0.925108  1.000000   \n",
       "agency      0.001484  0.001484    0.315986 -0.192272 -0.004610 -0.003166   \n",
       "date        0.001075  0.003814   -0.000286 -0.000015  0.000340  0.000947   \n",
       "\n",
       "              agency      date  \n",
       "from        0.001484  0.001075  \n",
       "to          0.001484  0.003814  \n",
       "flightType  0.315986 -0.000286  \n",
       "price      -0.192272 -0.000015  \n",
       "time       -0.004610  0.000340  \n",
       "distance   -0.003166  0.000947  \n",
       "agency      1.000000  0.002784  \n",
       "date        0.002784  1.000000  "
      ]
     },
     "execution_count": 31,
     "metadata": {},
     "output_type": "execute_result"
    }
   ],
   "source": [
    "flightdf.corr()"
   ]
  },
  {
   "cell_type": "code",
   "execution_count": 32,
   "id": "83319181",
   "metadata": {},
   "outputs": [
    {
     "data": {
      "text/plain": [
       "<AxesSubplot:>"
      ]
     },
     "execution_count": 32,
     "metadata": {},
     "output_type": "execute_result"
    },
    {
     "data": {
      "image/png": "[encoded data removed]",
      "text/plain": [
       "<Figure size 432x288 with 1 Axes>"
      ]
     },
     "metadata": {
      "needs_background": "light"
     },
     "output_type": "display_data"
    }
   ],
   "source": [
    "flightdf[\"price\"].hist()"
   ]
  },
  {
   "cell_type": "code",
   "execution_count": 33,
   "id": "3bc59b1d",
   "metadata": {},
   "outputs": [
    {
     "data": {
      "text/plain": [
       "<AxesSubplot:>"
      ]
     },
     "execution_count": 33,
     "metadata": {},
     "output_type": "execute_result"
    },
    {
     "data": {
      "image/png": "[encoded data removed]",
      "text/plain": [
       "<Figure size 432x288 with 1 Axes>"
      ]
     },
     "metadata": {
      "needs_background": "light"
     },
     "output_type": "display_data"
    }
   ],
   "source": [
    "flightdf[\"date\"].hist()"
   ]
  },
  {
   "cell_type": "code",
   "execution_count": 34,
   "id": "4135b710",
   "metadata": {},
   "outputs": [
    {
     "data": {
      "text/plain": [
       "<AxesSubplot:>"
      ]
     },
     "execution_count": 34,
     "metadata": {},
     "output_type": "execute_result"
    },
    {
     "data": {
      "image/png": "[encoded data removed]",
      "text/plain": [
       "<Figure size 432x288 with 1 Axes>"
      ]
     },
     "metadata": {
      "needs_background": "light"
     },
     "output_type": "display_data"
    }
   ],
   "source": [
    "flightdf[\"time\"].hist()"
   ]
  },
  {
   "cell_type": "code",
   "execution_count": 35,
   "id": "8fff275f",
   "metadata": {},
   "outputs": [
    {
     "data": {
      "text/plain": [
       "<AxesSubplot:>"
      ]
     },
     "execution_count": 35,
     "metadata": {},
     "output_type": "execute_result"
    },
    {
     "data": {
      "image/png": "[encoded data removed]",
      "text/plain": [
       "<Figure size 432x288 with 1 Axes>"
      ]
     },
     "metadata": {
      "needs_background": "light"
     },
     "output_type": "display_data"
    }
   ],
   "source": [
    "flightdf[\"flightType\"].hist()"
   ]
  },
  {
   "cell_type": "code",
   "execution_count": 36,
   "id": "3b461bfc",
   "metadata": {},
   "outputs": [
    {
     "data": {
      "text/html": [
       "<div>\n",
       "<style scoped>\n",
       "    .dataframe tbody tr th:only-of-type {\n",
       "        vertical-align: middle;\n",
       "    }\n",
       "\n",
       "    .dataframe tbody tr th {\n",
       "        vertical-align: top;\n",
       "    }\n",
       "\n",
       "    .dataframe thead th {\n",
       "        text-align: right;\n",
       "    }\n",
       "</style>\n",
       "<table border=\"1\" class=\"dataframe\">\n",
       "  <thead>\n",
       "    <tr style=\"text-align: right;\">\n",
       "      <th></th>\n",
       "      <th>from</th>\n",
       "      <th>to</th>\n",
       "      <th>flightType</th>\n",
       "      <th>price</th>\n",
       "      <th>time</th>\n",
       "      <th>distance</th>\n",
       "      <th>agency</th>\n",
       "      <th>date</th>\n",
       "    </tr>\n",
       "  </thead>\n",
       "  <tbody>\n",
       "    <tr>\n",
       "      <th>0</th>\n",
       "      <td>0</td>\n",
       "      <td>1</td>\n",
       "      <td>0</td>\n",
       "      <td>1434</td>\n",
       "      <td>1</td>\n",
       "      <td>676</td>\n",
       "      <td>0</td>\n",
       "      <td>9</td>\n",
       "    </tr>\n",
       "    <tr>\n",
       "      <th>1</th>\n",
       "      <td>1</td>\n",
       "      <td>0</td>\n",
       "      <td>0</td>\n",
       "      <td>1292</td>\n",
       "      <td>1</td>\n",
       "      <td>676</td>\n",
       "      <td>0</td>\n",
       "      <td>9</td>\n",
       "    </tr>\n",
       "    <tr>\n",
       "      <th>2</th>\n",
       "      <td>2</td>\n",
       "      <td>1</td>\n",
       "      <td>0</td>\n",
       "      <td>1487</td>\n",
       "      <td>1</td>\n",
       "      <td>637</td>\n",
       "      <td>1</td>\n",
       "      <td>10</td>\n",
       "    </tr>\n",
       "    <tr>\n",
       "      <th>3</th>\n",
       "      <td>1</td>\n",
       "      <td>2</td>\n",
       "      <td>0</td>\n",
       "      <td>1127</td>\n",
       "      <td>1</td>\n",
       "      <td>637</td>\n",
       "      <td>1</td>\n",
       "      <td>10</td>\n",
       "    </tr>\n",
       "    <tr>\n",
       "      <th>4</th>\n",
       "      <td>3</td>\n",
       "      <td>4</td>\n",
       "      <td>0</td>\n",
       "      <td>1684</td>\n",
       "      <td>2</td>\n",
       "      <td>830</td>\n",
       "      <td>1</td>\n",
       "      <td>10</td>\n",
       "    </tr>\n",
       "  </tbody>\n",
       "</table>\n",
       "</div>"
      ],
      "text/plain": [
       "   from  to  flightType  price  time  distance  agency  date\n",
       "0     0   1           0   1434     1       676       0     9\n",
       "1     1   0           0   1292     1       676       0     9\n",
       "2     2   1           0   1487     1       637       1    10\n",
       "3     1   2           0   1127     1       637       1    10\n",
       "4     3   4           0   1684     2       830       1    10"
      ]
     },
     "execution_count": 36,
     "metadata": {},
     "output_type": "execute_result"
    }
   ],
   "source": [
    "flightdf.head()"
   ]
  },
  {
   "cell_type": "code",
   "execution_count": 37,
   "id": "2f687d60",
   "metadata": {},
   "outputs": [
    {
     "data": {
      "text/plain": [
       "Index(['from', 'to', 'flightType', 'price', 'time', 'distance', 'agency',\n",
       "       'date'],\n",
       "      dtype='object')"
      ]
     },
     "execution_count": 37,
     "metadata": {},
     "output_type": "execute_result"
    }
   ],
   "source": [
    "flightdf.columns"
   ]
  },
  {
   "cell_type": "code",
   "execution_count": 38,
   "id": "09cefc07",
   "metadata": {},
   "outputs": [],
   "source": [
    "targetColumn = ['from', 'to', 'flightType', 'time', 'distance', 'agency',\n",
    "       'date']"
   ]
  },
  {
   "cell_type": "code",
   "execution_count": 39,
   "id": "1404f779",
   "metadata": {},
   "outputs": [],
   "source": [
    "from sklearn.model_selection import train_test_split\n",
    "\n",
    "x_train, x_test, y_train, y_test = train_test_split(flightdf[targetColumn], flightdf[\"price\"], train_size=0.80)\n"
   ]
  },
  {
   "cell_type": "code",
   "execution_count": 40,
   "id": "cdb8621c",
   "metadata": {},
   "outputs": [
    {
     "data": {
      "text/plain": [
       "['T',\n",
       " '_AXIS_LEN',\n",
       " '_AXIS_ORDERS',\n",
       " '_AXIS_REVERSED',\n",
       " '_AXIS_TO_AXIS_NUMBER',\n",
       " '_HANDLED_TYPES',\n",
       " '__abs__',\n",
       " '__add__',\n",
       " '__and__',\n",
       " '__annotations__',\n",
       " '__array__',\n",
       " '__array_priority__',\n",
       " '__array_ufunc__',\n",
       " '__array_wrap__',\n",
       " '__bool__',\n",
       " '__class__',\n",
       " '__contains__',\n",
       " '__copy__',\n",
       " '__deepcopy__',\n",
       " '__delattr__',\n",
       " '__delitem__',\n",
       " '__dict__',\n",
       " '__dir__',\n",
       " '__divmod__',\n",
       " '__doc__',\n",
       " '__eq__',\n",
       " '__finalize__',\n",
       " '__floordiv__',\n",
       " '__format__',\n",
       " '__ge__',\n",
       " '__getattr__',\n",
       " '__getattribute__',\n",
       " '__getitem__',\n",
       " '__getstate__',\n",
       " '__gt__',\n",
       " '__hash__',\n",
       " '__iadd__',\n",
       " '__iand__',\n",
       " '__ifloordiv__',\n",
       " '__imod__',\n",
       " '__imul__',\n",
       " '__init__',\n",
       " '__init_subclass__',\n",
       " '__invert__',\n",
       " '__ior__',\n",
       " '__ipow__',\n",
       " '__isub__',\n",
       " '__iter__',\n",
       " '__itruediv__',\n",
       " '__ixor__',\n",
       " '__le__',\n",
       " '__len__',\n",
       " '__lt__',\n",
       " '__matmul__',\n",
       " '__mod__',\n",
       " '__module__',\n",
       " '__mul__',\n",
       " '__ne__',\n",
       " '__neg__',\n",
       " '__new__',\n",
       " '__nonzero__',\n",
       " '__or__',\n",
       " '__pos__',\n",
       " '__pow__',\n",
       " '__radd__',\n",
       " '__rand__',\n",
       " '__rdivmod__',\n",
       " '__reduce__',\n",
       " '__reduce_ex__',\n",
       " '__repr__',\n",
       " '__rfloordiv__',\n",
       " '__rmatmul__',\n",
       " '__rmod__',\n",
       " '__rmul__',\n",
       " '__ror__',\n",
       " '__round__',\n",
       " '__rpow__',\n",
       " '__rsub__',\n",
       " '__rtruediv__',\n",
       " '__rxor__',\n",
       " '__setattr__',\n",
       " '__setitem__',\n",
       " '__setstate__',\n",
       " '__sizeof__',\n",
       " '__str__',\n",
       " '__sub__',\n",
       " '__subclasshook__',\n",
       " '__truediv__',\n",
       " '__weakref__',\n",
       " '__xor__',\n",
       " '_accessors',\n",
       " '_accum_func',\n",
       " '_add_numeric_operations',\n",
       " '_agg_by_level',\n",
       " '_agg_examples_doc',\n",
       " '_agg_summary_and_see_also_doc',\n",
       " '_align_frame',\n",
       " '_align_series',\n",
       " '_arith_method',\n",
       " '_as_manager',\n",
       " '_attrs',\n",
       " '_box_col_values',\n",
       " '_can_fast_transpose',\n",
       " '_check_inplace_and_allows_duplicate_labels',\n",
       " '_check_inplace_setting',\n",
       " '_check_is_chained_assignment_possible',\n",
       " '_check_label_or_level_ambiguity',\n",
       " '_check_setitem_copy',\n",
       " '_clear_item_cache',\n",
       " '_clip_with_one_bound',\n",
       " '_clip_with_scalar',\n",
       " '_cmp_method',\n",
       " '_combine_frame',\n",
       " '_consolidate',\n",
       " '_consolidate_inplace',\n",
       " '_construct_axes_dict',\n",
       " '_construct_axes_from_arguments',\n",
       " '_construct_result',\n",
       " '_constructor',\n",
       " '_constructor_sliced',\n",
       " '_convert',\n",
       " '_count_level',\n",
       " '_data',\n",
       " '_dir_additions',\n",
       " '_dir_deletions',\n",
       " '_dispatch_frame_op',\n",
       " '_drop_axis',\n",
       " '_drop_labels_or_levels',\n",
       " '_ensure_valid_index',\n",
       " '_find_valid_index',\n",
       " '_flags',\n",
       " '_from_arrays',\n",
       " '_from_mgr',\n",
       " '_get_agg_axis',\n",
       " '_get_axis',\n",
       " '_get_axis_name',\n",
       " '_get_axis_number',\n",
       " '_get_axis_resolvers',\n",
       " '_get_block_manager_axis',\n",
       " '_get_bool_data',\n",
       " '_get_cleaned_column_resolvers',\n",
       " '_get_column_array',\n",
       " '_get_index_resolvers',\n",
       " '_get_item_cache',\n",
       " '_get_label_or_level_values',\n",
       " '_get_numeric_data',\n",
       " '_get_value',\n",
       " '_getitem_bool_array',\n",
       " '_getitem_multilevel',\n",
       " '_gotitem',\n",
       " '_hidden_attrs',\n",
       " '_indexed_same',\n",
       " '_info_axis',\n",
       " '_info_axis_name',\n",
       " '_info_axis_number',\n",
       " '_info_repr',\n",
       " '_init_mgr',\n",
       " '_inplace_method',\n",
       " '_internal_names',\n",
       " '_internal_names_set',\n",
       " '_is_copy',\n",
       " '_is_homogeneous_type',\n",
       " '_is_label_or_level_reference',\n",
       " '_is_label_reference',\n",
       " '_is_level_reference',\n",
       " '_is_mixed_type',\n",
       " '_is_view',\n",
       " '_iset_item',\n",
       " '_iset_item_mgr',\n",
       " '_iset_not_inplace',\n",
       " '_item_cache',\n",
       " '_iter_column_arrays',\n",
       " '_ixs',\n",
       " '_join_compat',\n",
       " '_logical_func',\n",
       " '_logical_method',\n",
       " '_maybe_cache_changed',\n",
       " '_maybe_update_cacher',\n",
       " '_metadata',\n",
       " '_mgr',\n",
       " '_min_count_stat_function',\n",
       " '_needs_reindex_multi',\n",
       " '_protect_consolidate',\n",
       " '_reduce',\n",
       " '_reindex_axes',\n",
       " '_reindex_columns',\n",
       " '_reindex_index',\n",
       " '_reindex_multi',\n",
       " '_reindex_with_indexers',\n",
       " '_replace_columnwise',\n",
       " '_repr_data_resource_',\n",
       " '_repr_fits_horizontal_',\n",
       " '_repr_fits_vertical_',\n",
       " '_repr_html_',\n",
       " '_repr_latex_',\n",
       " '_reset_cache',\n",
       " '_reset_cacher',\n",
       " '_sanitize_column',\n",
       " '_series',\n",
       " '_set_axis',\n",
       " '_set_axis_name',\n",
       " '_set_axis_nocheck',\n",
       " '_set_is_copy',\n",
       " '_set_item',\n",
       " '_set_item_frame_value',\n",
       " '_set_item_mgr',\n",
       " '_set_value',\n",
       " '_setitem_array',\n",
       " '_setitem_frame',\n",
       " '_setitem_slice',\n",
       " '_slice',\n",
       " '_stat_axis',\n",
       " '_stat_axis_name',\n",
       " '_stat_axis_number',\n",
       " '_stat_function',\n",
       " '_stat_function_ddof',\n",
       " '_take_with_is_copy',\n",
       " '_to_dict_of_blocks',\n",
       " '_typ',\n",
       " '_update_inplace',\n",
       " '_validate_dtype',\n",
       " '_values',\n",
       " '_where',\n",
       " 'abs',\n",
       " 'add',\n",
       " 'add_prefix',\n",
       " 'add_suffix',\n",
       " 'agency',\n",
       " 'agg',\n",
       " 'aggregate',\n",
       " 'align',\n",
       " 'all',\n",
       " 'any',\n",
       " 'append',\n",
       " 'apply',\n",
       " 'applymap',\n",
       " 'asfreq',\n",
       " 'asof',\n",
       " 'assign',\n",
       " 'astype',\n",
       " 'at',\n",
       " 'at_time',\n",
       " 'attrs',\n",
       " 'axes',\n",
       " 'backfill',\n",
       " 'between_time',\n",
       " 'bfill',\n",
       " 'bool',\n",
       " 'boxplot',\n",
       " 'clip',\n",
       " 'columns',\n",
       " 'combine',\n",
       " 'combine_first',\n",
       " 'compare',\n",
       " 'convert_dtypes',\n",
       " 'copy',\n",
       " 'corr',\n",
       " 'corrwith',\n",
       " 'count',\n",
       " 'cov',\n",
       " 'cummax',\n",
       " 'cummin',\n",
       " 'cumprod',\n",
       " 'cumsum',\n",
       " 'date',\n",
       " 'describe',\n",
       " 'diff',\n",
       " 'distance',\n",
       " 'div',\n",
       " 'divide',\n",
       " 'dot',\n",
       " 'drop',\n",
       " 'drop_duplicates',\n",
       " 'droplevel',\n",
       " 'dropna',\n",
       " 'dtypes',\n",
       " 'duplicated',\n",
       " 'empty',\n",
       " 'eq',\n",
       " 'equals',\n",
       " 'eval',\n",
       " 'ewm',\n",
       " 'expanding',\n",
       " 'explode',\n",
       " 'ffill',\n",
       " 'fillna',\n",
       " 'filter',\n",
       " 'first',\n",
       " 'first_valid_index',\n",
       " 'flags',\n",
       " 'flightType',\n",
       " 'floordiv',\n",
       " 'from',\n",
       " 'from_dict',\n",
       " 'from_records',\n",
       " 'ge',\n",
       " 'get',\n",
       " 'groupby',\n",
       " 'gt',\n",
       " 'head',\n",
       " 'hist',\n",
       " 'iat',\n",
       " 'idxmax',\n",
       " 'idxmin',\n",
       " 'iloc',\n",
       " 'index',\n",
       " 'infer_objects',\n",
       " 'info',\n",
       " 'insert',\n",
       " 'interpolate',\n",
       " 'isin',\n",
       " 'isna',\n",
       " 'isnull',\n",
       " 'items',\n",
       " 'iteritems',\n",
       " 'iterrows',\n",
       " 'itertuples',\n",
       " 'join',\n",
       " 'keys',\n",
       " 'kurt',\n",
       " 'kurtosis',\n",
       " 'last',\n",
       " 'last_valid_index',\n",
       " 'le',\n",
       " 'loc',\n",
       " 'lookup',\n",
       " 'lt',\n",
       " 'mad',\n",
       " 'mask',\n",
       " 'max',\n",
       " 'mean',\n",
       " 'median',\n",
       " 'melt',\n",
       " 'memory_usage',\n",
       " 'merge',\n",
       " 'min',\n",
       " 'mod',\n",
       " 'mode',\n",
       " 'mul',\n",
       " 'multiply',\n",
       " 'ndim',\n",
       " 'ne',\n",
       " 'nlargest',\n",
       " 'notna',\n",
       " 'notnull',\n",
       " 'nsmallest',\n",
       " 'nunique',\n",
       " 'pad',\n",
       " 'pct_change',\n",
       " 'pipe',\n",
       " 'pivot',\n",
       " 'pivot_table',\n",
       " 'plot',\n",
       " 'pop',\n",
       " 'pow',\n",
       " 'prod',\n",
       " 'product',\n",
       " 'quantile',\n",
       " 'query',\n",
       " 'radd',\n",
       " 'rank',\n",
       " 'rdiv',\n",
       " 'reindex',\n",
       " 'reindex_like',\n",
       " 'rename',\n",
       " 'rename_axis',\n",
       " 'reorder_levels',\n",
       " 'replace',\n",
       " 'resample',\n",
       " 'reset_index',\n",
       " 'rfloordiv',\n",
       " 'rmod',\n",
       " 'rmul',\n",
       " 'rolling',\n",
       " 'round',\n",
       " 'rpow',\n",
       " 'rsub',\n",
       " 'rtruediv',\n",
       " 'sample',\n",
       " 'select_dtypes',\n",
       " 'sem',\n",
       " 'set_axis',\n",
       " 'set_flags',\n",
       " 'set_index',\n",
       " 'shape',\n",
       " 'shift',\n",
       " 'size',\n",
       " 'skew',\n",
       " 'slice_shift',\n",
       " 'sort_index',\n",
       " 'sort_values',\n",
       " 'squeeze',\n",
       " 'stack',\n",
       " 'std',\n",
       " 'style',\n",
       " 'sub',\n",
       " 'subtract',\n",
       " 'sum',\n",
       " 'swapaxes',\n",
       " 'swaplevel',\n",
       " 'tail',\n",
       " 'take',\n",
       " 'time',\n",
       " 'to',\n",
       " 'to_clipboard',\n",
       " 'to_csv',\n",
       " 'to_dict',\n",
       " 'to_excel',\n",
       " 'to_feather',\n",
       " 'to_gbq',\n",
       " 'to_hdf',\n",
       " 'to_html',\n",
       " 'to_json',\n",
       " 'to_latex',\n",
       " 'to_markdown',\n",
       " 'to_numpy',\n",
       " 'to_parquet',\n",
       " 'to_period',\n",
       " 'to_pickle',\n",
       " 'to_records',\n",
       " 'to_sql',\n",
       " 'to_stata',\n",
       " 'to_string',\n",
       " 'to_timestamp',\n",
       " 'to_xarray',\n",
       " 'to_xml',\n",
       " 'transform',\n",
       " 'transpose',\n",
       " 'truediv',\n",
       " 'truncate',\n",
       " 'tz_convert',\n",
       " 'tz_localize',\n",
       " 'unstack',\n",
       " 'update',\n",
       " 'value_counts',\n",
       " 'values',\n",
       " 'var',\n",
       " 'where',\n",
       " 'xs']"
      ]
     },
     "execution_count": 40,
     "metadata": {},
     "output_type": "execute_result"
    }
   ],
   "source": [
    "dir(x_train)"
   ]
  },
  {
   "cell_type": "code",
   "execution_count": 44,
   "id": "ff33a60a",
   "metadata": {},
   "outputs": [
    {
     "name": "stdout",
     "output_type": "stream",
     "text": [
      "==============================\n",
      "KNeighborsClassifier\n",
      "****Results****\n",
      "Accuracy: 99.9834%\n",
      "Log Loss: 0.0002895543063687392\n",
      "==============================\n",
      "DecisionTreeClassifier\n",
      "****Results****\n",
      "Accuracy: 100.0000%\n",
      "Log Loss: 4.1179755507902045e-13\n",
      "==============================\n",
      "RandomForestClassifier\n",
      "****Results****\n",
      "Accuracy: 100.0000%\n",
      "Log Loss: 3.4350429681991445e-05\n",
      "==============================\n",
      "GaussianNB\n",
      "****Results****\n",
      "Accuracy: 85.7847%\n",
      "Log Loss: 0.8728104399515274\n",
      "==============================\n",
      "LinearDiscriminantAnalysis\n",
      "****Results****\n",
      "Accuracy: 77.9782%\n",
      "Log Loss: 2.1333186696115236\n",
      "==============================\n"
     ]
    }
   ],
   "source": [
    "# Multiple classifier trial and error to find the best fit\n",
    "from sklearn.metrics import accuracy_score, log_loss\n",
    "from sklearn.neighbors import KNeighborsClassifier\n",
    "from sklearn.tree import DecisionTreeClassifier\n",
    "from sklearn.ensemble import RandomForestClassifier\n",
    "from sklearn.naive_bayes import GaussianNB\n",
    "from sklearn.discriminant_analysis import LinearDiscriminantAnalysis\n",
    "\n",
    "classifiers = [\n",
    "    KNeighborsClassifier(4),\n",
    "    DecisionTreeClassifier(),\n",
    "    RandomForestClassifier(),\n",
    "    GaussianNB(),\n",
    "    LinearDiscriminantAnalysis()]\n",
    "\n",
    "# Logging for Visual Comparison\n",
    "log_cols=[\"Classifier\", \"Accuracy\", \"Log Loss\"]\n",
    "log = pd.DataFrame(columns=log_cols)\n",
    "\n",
    "for clf in classifiers:\n",
    "    clf.fit(x_train, y_train)\n",
    "    name = clf.__class__.__name__\n",
    "    \n",
    "    print(\"=\"*30)\n",
    "    print(name)\n",
    "    \n",
    "    print('****Results****')\n",
    "    train_predictions = clf.predict(x_test)\n",
    "    acc = accuracy_score(y_test, train_predictions)\n",
    "    print(\"Accuracy: {:.4%}\".format(acc))\n",
    "    \n",
    "    train_predictions = clf.predict_proba(x_test)\n",
    "    ll = log_loss(y_test, train_predictions)\n",
    "    print(\"Log Loss: {}\".format(ll))\n",
    "    print()\n",
    "    \n",
    "    #log_entry = pd.DataFrame([[name, acc*100, ll]], columns=log_cols)\n",
    "    #log = log.append(log_entry)\n",
    "    \n",
    "print(\"=\"*30)"
   ]
  },
  {
   "cell_type": "code",
   "execution_count": null,
   "id": "cd4aefa8",
   "metadata": {},
   "outputs": [],
   "source": []
  }
 ],
 "metadata": {
  "kernelspec": {
   "display_name": "Python 3 (ipykernel)",
   "language": "python",
   "name": "python3"
  },
  "language_info": {
   "codemirror_mode": {
    "name": "ipython",
    "version": 3
   },
   "file_extension": ".py",
   "mimetype": "text/x-python",
   "name": "python",
   "nbconvert_exporter": "python",
   "pygments_lexer": "ipython3",
   "version": "3.8.12"
  }
 },
 "nbformat": 4,
 "nbformat_minor": 5
}
