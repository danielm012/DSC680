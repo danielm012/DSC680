{
 "cells": [
  {
   "cell_type": "code",
   "execution_count": 140,
   "id": "4ac94f95",
   "metadata": {},
   "outputs": [],
   "source": [
    "import numpy as np\n",
    "import pandas as pd\n",
    "import matplotlib.pyplot as plt\n",
    "import matplotlib.mlab as mlab"
   ]
  },
  {
   "cell_type": "code",
   "execution_count": 8,
   "id": "8070ba1d",
   "metadata": {},
   "outputs": [],
   "source": [
    "basketball_player_data = pd.read_csv('C:/Users/danie/OneDrive/DSC-640/week7_8/ex5-2/ppg2008.csv')\n",
    "costcos_map_data = pd.read_csv('C:/Users/danie/OneDrive/DSC-640/week7_8/ex5-2/costcos-geocoded.csv')"
   ]
  },
  {
   "cell_type": "code",
   "execution_count": 9,
   "id": "b0cacf63",
   "metadata": {},
   "outputs": [
    {
     "data": {
      "text/html": [
       "<div>\n",
       "<style scoped>\n",
       "    .dataframe tbody tr th:only-of-type {\n",
       "        vertical-align: middle;\n",
       "    }\n",
       "\n",
       "    .dataframe tbody tr th {\n",
       "        vertical-align: top;\n",
       "    }\n",
       "\n",
       "    .dataframe thead th {\n",
       "        text-align: right;\n",
       "    }\n",
       "</style>\n",
       "<table border=\"1\" class=\"dataframe\">\n",
       "  <thead>\n",
       "    <tr style=\"text-align: right;\">\n",
       "      <th></th>\n",
       "      <th>Name</th>\n",
       "      <th>G</th>\n",
       "      <th>MIN</th>\n",
       "      <th>PTS</th>\n",
       "      <th>FGM</th>\n",
       "      <th>FGA</th>\n",
       "      <th>FGP</th>\n",
       "      <th>FTM</th>\n",
       "      <th>FTA</th>\n",
       "      <th>FTP</th>\n",
       "      <th>...</th>\n",
       "      <th>3PA</th>\n",
       "      <th>3PP</th>\n",
       "      <th>ORB</th>\n",
       "      <th>DRB</th>\n",
       "      <th>TRB</th>\n",
       "      <th>AST</th>\n",
       "      <th>STL</th>\n",
       "      <th>BLK</th>\n",
       "      <th>TO</th>\n",
       "      <th>PF</th>\n",
       "    </tr>\n",
       "  </thead>\n",
       "  <tbody>\n",
       "    <tr>\n",
       "      <th>0</th>\n",
       "      <td>Dwyane Wade</td>\n",
       "      <td>79</td>\n",
       "      <td>38.6</td>\n",
       "      <td>30.2</td>\n",
       "      <td>10.8</td>\n",
       "      <td>22.0</td>\n",
       "      <td>0.491</td>\n",
       "      <td>7.5</td>\n",
       "      <td>9.8</td>\n",
       "      <td>0.765</td>\n",
       "      <td>...</td>\n",
       "      <td>3.5</td>\n",
       "      <td>0.317</td>\n",
       "      <td>1.1</td>\n",
       "      <td>3.9</td>\n",
       "      <td>5.0</td>\n",
       "      <td>7.5</td>\n",
       "      <td>2.2</td>\n",
       "      <td>1.3</td>\n",
       "      <td>3.4</td>\n",
       "      <td>2.3</td>\n",
       "    </tr>\n",
       "    <tr>\n",
       "      <th>1</th>\n",
       "      <td>LeBron James</td>\n",
       "      <td>81</td>\n",
       "      <td>37.7</td>\n",
       "      <td>28.4</td>\n",
       "      <td>9.7</td>\n",
       "      <td>19.9</td>\n",
       "      <td>0.489</td>\n",
       "      <td>7.3</td>\n",
       "      <td>9.4</td>\n",
       "      <td>0.780</td>\n",
       "      <td>...</td>\n",
       "      <td>4.7</td>\n",
       "      <td>0.344</td>\n",
       "      <td>1.3</td>\n",
       "      <td>6.3</td>\n",
       "      <td>7.6</td>\n",
       "      <td>7.2</td>\n",
       "      <td>1.7</td>\n",
       "      <td>1.1</td>\n",
       "      <td>3.0</td>\n",
       "      <td>1.7</td>\n",
       "    </tr>\n",
       "    <tr>\n",
       "      <th>2</th>\n",
       "      <td>Kobe Bryant</td>\n",
       "      <td>82</td>\n",
       "      <td>36.2</td>\n",
       "      <td>26.8</td>\n",
       "      <td>9.8</td>\n",
       "      <td>20.9</td>\n",
       "      <td>0.467</td>\n",
       "      <td>5.9</td>\n",
       "      <td>6.9</td>\n",
       "      <td>0.856</td>\n",
       "      <td>...</td>\n",
       "      <td>4.1</td>\n",
       "      <td>0.351</td>\n",
       "      <td>1.1</td>\n",
       "      <td>4.1</td>\n",
       "      <td>5.2</td>\n",
       "      <td>4.9</td>\n",
       "      <td>1.5</td>\n",
       "      <td>0.5</td>\n",
       "      <td>2.6</td>\n",
       "      <td>2.3</td>\n",
       "    </tr>\n",
       "    <tr>\n",
       "      <th>3</th>\n",
       "      <td>Dirk Nowitzki</td>\n",
       "      <td>81</td>\n",
       "      <td>37.7</td>\n",
       "      <td>25.9</td>\n",
       "      <td>9.6</td>\n",
       "      <td>20.0</td>\n",
       "      <td>0.479</td>\n",
       "      <td>6.0</td>\n",
       "      <td>6.7</td>\n",
       "      <td>0.890</td>\n",
       "      <td>...</td>\n",
       "      <td>2.1</td>\n",
       "      <td>0.359</td>\n",
       "      <td>1.1</td>\n",
       "      <td>7.3</td>\n",
       "      <td>8.4</td>\n",
       "      <td>2.4</td>\n",
       "      <td>0.8</td>\n",
       "      <td>0.8</td>\n",
       "      <td>1.9</td>\n",
       "      <td>2.2</td>\n",
       "    </tr>\n",
       "    <tr>\n",
       "      <th>4</th>\n",
       "      <td>Danny Granger</td>\n",
       "      <td>67</td>\n",
       "      <td>36.2</td>\n",
       "      <td>25.8</td>\n",
       "      <td>8.5</td>\n",
       "      <td>19.1</td>\n",
       "      <td>0.447</td>\n",
       "      <td>6.0</td>\n",
       "      <td>6.9</td>\n",
       "      <td>0.878</td>\n",
       "      <td>...</td>\n",
       "      <td>6.7</td>\n",
       "      <td>0.404</td>\n",
       "      <td>0.7</td>\n",
       "      <td>4.4</td>\n",
       "      <td>5.1</td>\n",
       "      <td>2.7</td>\n",
       "      <td>1.0</td>\n",
       "      <td>1.4</td>\n",
       "      <td>2.5</td>\n",
       "      <td>3.1</td>\n",
       "    </tr>\n",
       "  </tbody>\n",
       "</table>\n",
       "<p>5 rows × 21 columns</p>\n",
       "</div>"
      ],
      "text/plain": [
       "           Name     G   MIN   PTS   FGM   FGA    FGP  FTM  FTA    FTP  ...  \\\n",
       "0    Dwyane Wade   79  38.6  30.2  10.8  22.0  0.491  7.5  9.8  0.765  ...   \n",
       "1   LeBron James   81  37.7  28.4   9.7  19.9  0.489  7.3  9.4  0.780  ...   \n",
       "2    Kobe Bryant   82  36.2  26.8   9.8  20.9  0.467  5.9  6.9  0.856  ...   \n",
       "3  Dirk Nowitzki   81  37.7  25.9   9.6  20.0  0.479  6.0  6.7  0.890  ...   \n",
       "4  Danny Granger   67  36.2  25.8   8.5  19.1  0.447  6.0  6.9  0.878  ...   \n",
       "\n",
       "   3PA    3PP  ORB  DRB  TRB  AST  STL  BLK   TO   PF  \n",
       "0  3.5  0.317  1.1  3.9  5.0  7.5  2.2  1.3  3.4  2.3  \n",
       "1  4.7  0.344  1.3  6.3  7.6  7.2  1.7  1.1  3.0  1.7  \n",
       "2  4.1  0.351  1.1  4.1  5.2  4.9  1.5  0.5  2.6  2.3  \n",
       "3  2.1  0.359  1.1  7.3  8.4  2.4  0.8  0.8  1.9  2.2  \n",
       "4  6.7  0.404  0.7  4.4  5.1  2.7  1.0  1.4  2.5  3.1  \n",
       "\n",
       "[5 rows x 21 columns]"
      ]
     },
     "execution_count": 9,
     "metadata": {},
     "output_type": "execute_result"
    }
   ],
   "source": [
    "basketball_player_data.head()"
   ]
  },
  {
   "cell_type": "code",
   "execution_count": 62,
   "id": "7788029d",
   "metadata": {},
   "outputs": [
    {
     "data": {
      "text/plain": [
       "0           Dwyane Wade \n",
       "1          LeBron James \n",
       "2           Kobe Bryant \n",
       "3         Dirk Nowitzki \n",
       "4         Danny Granger \n",
       "5          Kevin Durant \n",
       "6          Kevin Martin \n",
       "7          Al Jefferson \n",
       "8            Chris Paul \n",
       "9       Carmelo Anthony \n",
       "10           Chris Bosh \n",
       "11          Brandon Roy \n",
       "12       Antawn Jamison \n",
       "13          Tony Parker \n",
       "14     Amare Stoudemire \n",
       "15          Joe Johnson \n",
       "16         Devin Harris \n",
       "17         Michael Redd \n",
       "18           David West \n",
       "19     Zachary Randolph \n",
       "20         Caron Butler \n",
       "21         Vince Carter \n",
       "22      Stephen Jackson \n",
       "23           Ben Gordon \n",
       "24        Dwight Howard \n",
       "25          Paul Pierce \n",
       "26        Al Harrington \n",
       "27       Jamal Crawford \n",
       "28             Yao Ming \n",
       "29    Richard Jefferson \n",
       "30          Jason Terry \n",
       "31       Deron Williams \n",
       "32           Tim Duncan \n",
       "33          Monta Ellis \n",
       "34             Rudy Gay \n",
       "35            Pau Gasol \n",
       "36       Andre Iguodala \n",
       "37       Corey Maggette \n",
       "38            O.J. Mayo \n",
       "39         John Salmons \n",
       "40     Richard Hamilton \n",
       "41            Ray Allen \n",
       "42    LaMarcus Aldridge \n",
       "43          Josh Howard \n",
       "44     Maurice Williams \n",
       "45     Shaquille O'neal \n",
       "46        Rashard Lewis \n",
       "47     Chauncey Billups \n",
       "48        Allen Iverson \n",
       "49        Nate Robinson \n",
       "Name: Name  , dtype: object"
      ]
     },
     "execution_count": 62,
     "metadata": {},
     "output_type": "execute_result"
    }
   ],
   "source": [
    "basketball_player_data.loc[:, 'Name  ']"
   ]
  },
  {
   "cell_type": "code",
   "execution_count": 63,
   "id": "d114ced2",
   "metadata": {},
   "outputs": [
    {
     "data": {
      "text/plain": [
       "21"
      ]
     },
     "execution_count": 63,
     "metadata": {},
     "output_type": "execute_result"
    }
   ],
   "source": [
    "len(basketball_player_data.columns)"
   ]
  },
  {
   "cell_type": "code",
   "execution_count": 64,
   "id": "bb10b093",
   "metadata": {},
   "outputs": [
    {
     "data": {
      "text/plain": [
       "50"
      ]
     },
     "execution_count": 64,
     "metadata": {},
     "output_type": "execute_result"
    }
   ],
   "source": [
    "len(basketball_player_data.loc[:, 'Name  '])"
   ]
  },
  {
   "cell_type": "code",
   "execution_count": 66,
   "id": "90380802",
   "metadata": {},
   "outputs": [
    {
     "data": {
      "text/plain": [
       "<matplotlib.colorbar.Colorbar at 0x1c40cae1970>"
      ]
     },
     "execution_count": 66,
     "metadata": {},
     "output_type": "execute_result"
    },
    {
     "data": {
      "image/png": "[encoded data removed]",
      "text/plain": [
       "<Figure size 504x792 with 2 Axes>"
      ]
     },
     "metadata": {
      "needs_background": "light"
     },
     "output_type": "display_data"
    }
   ],
   "source": [
    "plt.figure(figsize=(7, 11))\n",
    "\n",
    "plt.yticks(np.arange(len(basketball_player_data.loc[:, 'Name  '])), labels = basketball_player_data['Name  '])\n",
    "plt.xticks(np.arange(len(basketball_player_data.columns) - 1), labels = basketball_player_data.columns[basketball_player_data.columns != 'Name  '], rotation=90)\n",
    "his = plt.imshow(basketball_player_data.loc[:, basketball_player_data.columns != 'Name  '], cmap = \"Blues\", interpolation=\"nearest\")\n",
    "plt.colorbar(his)"
   ]
  },
  {
   "cell_type": "code",
   "execution_count": 5,
   "id": "57538a0c",
   "metadata": {},
   "outputs": [
    {
     "data": {
      "text/html": [
       "<div>\n",
       "<style scoped>\n",
       "    .dataframe tbody tr th:only-of-type {\n",
       "        vertical-align: middle;\n",
       "    }\n",
       "\n",
       "    .dataframe tbody tr th {\n",
       "        vertical-align: top;\n",
       "    }\n",
       "\n",
       "    .dataframe thead th {\n",
       "        text-align: right;\n",
       "    }\n",
       "</style>\n",
       "<table border=\"1\" class=\"dataframe\">\n",
       "  <thead>\n",
       "    <tr style=\"text-align: right;\">\n",
       "      <th></th>\n",
       "      <th>Address</th>\n",
       "      <th>City</th>\n",
       "      <th>State</th>\n",
       "      <th>Zip Code</th>\n",
       "      <th>Latitude</th>\n",
       "      <th>Longitude</th>\n",
       "    </tr>\n",
       "  </thead>\n",
       "  <tbody>\n",
       "    <tr>\n",
       "      <th>0</th>\n",
       "      <td>1205 N. Memorial Parkway</td>\n",
       "      <td>Huntsville</td>\n",
       "      <td>Alabama</td>\n",
       "      <td>35801-5930</td>\n",
       "      <td>34.743095</td>\n",
       "      <td>-86.600955</td>\n",
       "    </tr>\n",
       "    <tr>\n",
       "      <th>1</th>\n",
       "      <td>3650 Galleria Circle</td>\n",
       "      <td>Hoover</td>\n",
       "      <td>Alabama</td>\n",
       "      <td>35244-2346</td>\n",
       "      <td>33.377649</td>\n",
       "      <td>-86.812420</td>\n",
       "    </tr>\n",
       "    <tr>\n",
       "      <th>2</th>\n",
       "      <td>8251 Eastchase Parkway</td>\n",
       "      <td>Montgomery</td>\n",
       "      <td>Alabama</td>\n",
       "      <td>36117</td>\n",
       "      <td>32.363889</td>\n",
       "      <td>-86.150884</td>\n",
       "    </tr>\n",
       "    <tr>\n",
       "      <th>3</th>\n",
       "      <td>5225 Commercial Boulevard</td>\n",
       "      <td>Juneau</td>\n",
       "      <td>Alaska</td>\n",
       "      <td>99801-7210</td>\n",
       "      <td>58.359200</td>\n",
       "      <td>-134.483000</td>\n",
       "    </tr>\n",
       "    <tr>\n",
       "      <th>4</th>\n",
       "      <td>330 West Dimond Blvd</td>\n",
       "      <td>Anchorage</td>\n",
       "      <td>Alaska</td>\n",
       "      <td>99515-1950</td>\n",
       "      <td>61.143266</td>\n",
       "      <td>-149.884217</td>\n",
       "    </tr>\n",
       "  </tbody>\n",
       "</table>\n",
       "</div>"
      ],
      "text/plain": [
       "                     Address        City    State    Zip Code   Latitude  \\\n",
       "0   1205 N. Memorial Parkway  Huntsville  Alabama  35801-5930  34.743095   \n",
       "1       3650 Galleria Circle      Hoover  Alabama  35244-2346  33.377649   \n",
       "2     8251 Eastchase Parkway  Montgomery  Alabama       36117  32.363889   \n",
       "3  5225 Commercial Boulevard      Juneau   Alaska  99801-7210  58.359200   \n",
       "4       330 West Dimond Blvd   Anchorage   Alaska  99515-1950  61.143266   \n",
       "\n",
       "    Longitude  \n",
       "0  -86.600955  \n",
       "1  -86.812420  \n",
       "2  -86.150884  \n",
       "3 -134.483000  \n",
       "4 -149.884217  "
      ]
     },
     "execution_count": 5,
     "metadata": {},
     "output_type": "execute_result"
    }
   ],
   "source": [
    "costcos_map_data.head()"
   ]
  },
  {
   "cell_type": "code",
   "execution_count": 81,
   "id": "d6b65e3c",
   "metadata": {},
   "outputs": [
    {
     "data": {
      "image/png": "[encoded data removed]",
      "text/plain": [
       "<Figure size 576x648 with 2 Axes>"
      ]
     },
     "metadata": {
      "needs_background": "light"
     },
     "output_type": "display_data"
    }
   ],
   "source": [
    "plt.figure(figsize = (8,9))\n",
    "plt.hist2d(costcos_map_data.Longitude, costcos_map_data.Latitude, bins=180, cmap='hot')\n",
    "plt.colorbar().set_label('Number of Cosco properties')\n",
    "plt.xlabel('Longitude', fontsize=14)\n",
    "plt.ylabel('Latitude', fontsize=14)\n",
    "plt.title('Number of Cosco properties in the USA', fontsize=17)\n",
    "plt.show()"
   ]
  },
  {
   "cell_type": "code",
   "execution_count": 106,
   "id": "d2762ed7",
   "metadata": {},
   "outputs": [
    {
     "data": {
      "text/html": [
       "<div>\n",
       "<style scoped>\n",
       "    .dataframe tbody tr th:only-of-type {\n",
       "        vertical-align: middle;\n",
       "    }\n",
       "\n",
       "    .dataframe tbody tr th {\n",
       "        vertical-align: top;\n",
       "    }\n",
       "\n",
       "    .dataframe thead th {\n",
       "        text-align: right;\n",
       "    }\n",
       "</style>\n",
       "<table border=\"1\" class=\"dataframe\">\n",
       "  <thead>\n",
       "    <tr style=\"text-align: right;\">\n",
       "      <th></th>\n",
       "      <th>State</th>\n",
       "      <th>enc</th>\n",
       "    </tr>\n",
       "  </thead>\n",
       "  <tbody>\n",
       "    <tr>\n",
       "      <th>0</th>\n",
       "      <td>Alabama</td>\n",
       "      <td>0.0</td>\n",
       "    </tr>\n",
       "    <tr>\n",
       "      <th>1</th>\n",
       "      <td>Alabama</td>\n",
       "      <td>0.0</td>\n",
       "    </tr>\n",
       "    <tr>\n",
       "      <th>2</th>\n",
       "      <td>Alabama</td>\n",
       "      <td>0.0</td>\n",
       "    </tr>\n",
       "    <tr>\n",
       "      <th>3</th>\n",
       "      <td>Alaska</td>\n",
       "      <td>1.0</td>\n",
       "    </tr>\n",
       "    <tr>\n",
       "      <th>4</th>\n",
       "      <td>Alaska</td>\n",
       "      <td>1.0</td>\n",
       "    </tr>\n",
       "    <tr>\n",
       "      <th>5</th>\n",
       "      <td>Alaska</td>\n",
       "      <td>1.0</td>\n",
       "    </tr>\n",
       "    <tr>\n",
       "      <th>6</th>\n",
       "      <td>Arizona</td>\n",
       "      <td>2.0</td>\n",
       "    </tr>\n",
       "    <tr>\n",
       "      <th>7</th>\n",
       "      <td>Arizona</td>\n",
       "      <td>2.0</td>\n",
       "    </tr>\n",
       "    <tr>\n",
       "      <th>8</th>\n",
       "      <td>Arizona</td>\n",
       "      <td>2.0</td>\n",
       "    </tr>\n",
       "    <tr>\n",
       "      <th>9</th>\n",
       "      <td>Arizona</td>\n",
       "      <td>2.0</td>\n",
       "    </tr>\n",
       "    <tr>\n",
       "      <th>10</th>\n",
       "      <td>Arizona</td>\n",
       "      <td>2.0</td>\n",
       "    </tr>\n",
       "  </tbody>\n",
       "</table>\n",
       "</div>"
      ],
      "text/plain": [
       "      State  enc\n",
       "0   Alabama  0.0\n",
       "1   Alabama  0.0\n",
       "2   Alabama  0.0\n",
       "3    Alaska  1.0\n",
       "4    Alaska  1.0\n",
       "5    Alaska  1.0\n",
       "6   Arizona  2.0\n",
       "7   Arizona  2.0\n",
       "8   Arizona  2.0\n",
       "9   Arizona  2.0\n",
       "10  Arizona  2.0"
      ]
     },
     "execution_count": 106,
     "metadata": {},
     "output_type": "execute_result"
    }
   ],
   "source": [
    "# Label encoding to simple integer \n",
    "\n",
    "from sklearn.preprocessing import OrdinalEncoder\n",
    "\n",
    "ord_enc = OrdinalEncoder()\n",
    "costcos_map_data[\"enc\"] = ord_enc.fit_transform(costcos_map_data[[\"State\"]])\n",
    "costcos_map_data[[\"State\", \"enc\"]].head(11)"
   ]
  },
  {
   "cell_type": "code",
   "execution_count": 116,
   "id": "0168011b",
   "metadata": {},
   "outputs": [],
   "source": [
    "X, Y = np.meshgrid(basketball_player_data['MIN'], basketball_player_data['PTS'])"
   ]
  },
  {
   "cell_type": "code",
   "execution_count": 142,
   "id": "ba51c81d",
   "metadata": {},
   "outputs": [],
   "source": [
    "Z = X + Y "
   ]
  },
  {
   "cell_type": "code",
   "execution_count": 143,
   "id": "b64c93ae",
   "metadata": {},
   "outputs": [
    {
     "name": "stderr",
     "output_type": "stream",
     "text": [
      "<ipython-input-143-f984ee834bbb>:10: MatplotlibDeprecationWarning: The 'extend' parameter to Colorbar has no effect because it is overridden by the mappable; it is deprecated since 3.3 and will be removed two minor releases later.\n",
      "  plt.colorbar(CS, shrink=0.8, extend='both')\n"
     ]
    },
    {
     "data": {
      "text/plain": [
       "<matplotlib.colorbar.Colorbar at 0x1c41a9a1940>"
      ]
     },
     "execution_count": 143,
     "metadata": {},
     "output_type": "execute_result"
    },
    {
     "data": {
      "image/png": "[encoded data removed]",
      "text/plain": [
       "<Figure size 432x288 with 2 Axes>"
      ]
     },
     "metadata": {
      "needs_background": "light"
     },
     "output_type": "display_data"
    }
   ],
   "source": [
    "CS = plt.contour(basketball_player_data['MIN'], basketball_player_data['PTS'], Z)\n",
    "\n",
    "plt.title('NBA players MIn vs PTS Score')\n",
    "plt.xlabel('MIN')\n",
    "plt.ylabel('PTS')\n",
    "\n",
    "\n",
    "\n",
    "plt.clabel(CS, inline=1, fontsize=10)\n",
    "plt.colorbar(CS, shrink=0.8, extend='both')"
   ]
  },
  {
   "cell_type": "code",
   "execution_count": null,
   "id": "b500a6bf",
   "metadata": {},
   "outputs": [],
   "source": []
  },
  {
   "cell_type": "code",
   "execution_count": null,
   "id": "b2a322d6",
   "metadata": {},
   "outputs": [],
   "source": []
  }
 ],
 "metadata": {
  "kernelspec": {
   "display_name": "Python 3",
   "language": "python",
   "name": "python3"
  },
  "language_info": {
   "codemirror_mode": {
    "name": "ipython",
    "version": 3
   },
   "file_extension": ".py",
   "mimetype": "text/x-python",
   "name": "python",
   "nbconvert_exporter": "python",
   "pygments_lexer": "ipython3",
   "version": "3.8.10"
  }
 },
 "nbformat": 4,
 "nbformat_minor": 5
}
